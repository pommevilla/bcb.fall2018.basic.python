{
 "cells": [
  {
   "cell_type": "markdown",
   "metadata": {},
   "source": [
    "# BCBGSO Fall 2018 Basic Python Workshop\n",
    "\n",
    "## Solutions\n",
    "\n",
    "## Section 2: Python Basics \n",
    "\n",
    "<a id='sol-2.1'></a>\n",
    "### Exercise 2.1:\n",
    "**1. How can you tell when a number is divisible by 10?**\n",
    "\n",
    "    A number is divisible by 10 if its remainder after being divided by 10 is 0.  For example,"
   ]
  },
  {
   "cell_type": "code",
   "execution_count": 17,
   "metadata": {},
   "outputs": [
    {
     "data": {
      "text/plain": [
       "0"
      ]
     },
     "execution_count": 17,
     "metadata": {},
     "output_type": "execute_result"
    }
   ],
   "source": [
    "240 % 10"
   ]
  },
  {
   "cell_type": "markdown",
   "metadata": {},
   "source": [
    "**2. How can you tell when a number is divisible by 3?** \n",
    "\n",
    "    If the remainder after dividing by 3 is 0, then the number was divisible by 3:"
   ]
  },
  {
   "cell_type": "code",
   "execution_count": 18,
   "metadata": {},
   "outputs": [
    {
     "data": {
      "text/plain": [
       "0"
      ]
     },
     "execution_count": 18,
     "metadata": {},
     "output_type": "execute_result"
    }
   ],
   "source": [
    "240 % 3"
   ]
  },
  {
   "cell_type": "markdown",
   "metadata": {},
   "source": [
    "**3. How can you tell when a number is even?** \n",
    "\n",
    "    A number is even if the remainder after dividing by 2 is 0:"
   ]
  },
  {
   "cell_type": "code",
   "execution_count": 19,
   "metadata": {},
   "outputs": [
    {
     "data": {
      "text/plain": [
       "0"
      ]
     },
     "execution_count": 19,
     "metadata": {},
     "output_type": "execute_result"
    }
   ],
   "source": [
    "240 % 2"
   ]
  },
  {
   "cell_type": "markdown",
   "metadata": {},
   "source": [
    "    Similarly, the number is odd if the remainder after dividing by 2 is 1."
   ]
  },
  {
   "cell_type": "code",
   "execution_count": 20,
   "metadata": {},
   "outputs": [
    {
     "data": {
      "text/plain": [
       "1"
      ]
     },
     "execution_count": 20,
     "metadata": {},
     "output_type": "execute_result"
    }
   ],
   "source": [
    "241 % 2"
   ]
  },
  {
   "cell_type": "markdown",
   "metadata": {},
   "source": [
    "<a id='sol-2.2'></a>\n",
    "### Exercise 2.2:\n",
    "**1. Print the first half of your name (without counting!).**"
   ]
  },
  {
   "cell_type": "code",
   "execution_count": 21,
   "metadata": {},
   "outputs": [
    {
     "data": {
      "text/plain": [
       "'Paul Edouar'"
      ]
     },
     "execution_count": 21,
     "metadata": {},
     "output_type": "execute_result"
    }
   ],
   "source": [
    "my_name = \"Paul Edouard Villanueva\"\n",
    "my_name[:len(my_name) // 2]"
   ]
  },
  {
   "cell_type": "markdown",
   "metadata": {},
   "source": [
    "**2. Print the second half of your name.**"
   ]
  },
  {
   "cell_type": "code",
   "execution_count": 22,
   "metadata": {},
   "outputs": [
    {
     "data": {
      "text/plain": [
       "'d Villanueva'"
      ]
     },
     "execution_count": 22,
     "metadata": {},
     "output_type": "execute_result"
    }
   ],
   "source": [
    "my_name[len(my_name) // 2 :]"
   ]
  },
  {
   "cell_type": "markdown",
   "metadata": {},
   "source": [
    "**3. *Split* (hint, hint) your name into first, middle, and last names.**"
   ]
  },
  {
   "cell_type": "code",
   "execution_count": 24,
   "metadata": {},
   "outputs": [
    {
     "data": {
      "text/plain": [
       "['Paul', 'Edouard', 'Villanueva']"
      ]
     },
     "execution_count": 24,
     "metadata": {},
     "output_type": "execute_result"
    }
   ],
   "source": [
    "my_name.split()"
   ]
  },
  {
   "cell_type": "markdown",
   "metadata": {},
   "source": [
    "**4. Print out every third character.**"
   ]
  },
  {
   "cell_type": "code",
   "execution_count": 25,
   "metadata": {},
   "outputs": [
    {
     "data": {
      "text/plain": [
       "'Plda lnv'"
      ]
     },
     "execution_count": 25,
     "metadata": {},
     "output_type": "execute_result"
    }
   ],
   "source": [
    "my_name[::3]"
   ]
  },
  {
   "cell_type": "markdown",
   "metadata": {},
   "source": [
    "**5. Reverse your name.**"
   ]
  },
  {
   "cell_type": "code",
   "execution_count": 26,
   "metadata": {},
   "outputs": [
    {
     "data": {
      "text/plain": [
       "'aveunalliV drauodE luaP'"
      ]
     },
     "execution_count": 26,
     "metadata": {},
     "output_type": "execute_result"
    }
   ],
   "source": [
    "my_name[::-1]"
   ]
  },
  {
   "cell_type": "markdown",
   "metadata": {},
   "source": [
    "<a id='sol-2.3'></a>\n",
    "### Exercise 2.3:\n",
    "\n",
    "**1. Make a list called `fave_movies` of your favorite movies.**"
   ]
  },
  {
   "cell_type": "code",
   "execution_count": 27,
   "metadata": {},
   "outputs": [],
   "source": [
    "fave_movies = [\"Speed Racer\", \"The Revenant\", \"Inception\"]"
   ]
  },
  {
   "cell_type": "markdown",
   "metadata": {},
   "source": [
    "<a id='sol-2.4'></a>\n",
    "### Exercise 2.4:\n",
    "\n",
    "**1. Update `my_faves` to be a dictionary with entries for `Happy` and `Sad`.**"
   ]
  },
  {
   "cell_type": "code",
   "execution_count": 31,
   "metadata": {},
   "outputs": [
    {
     "data": {
      "text/plain": [
       "{'Song': 'Nightwave by Wolfclub',\n",
       " 'Food': 'Crispy Tofu',\n",
       " 'TV Show': 'Because This Is My First Life',\n",
       " 'Person': 'Me'}"
      ]
     },
     "execution_count": 31,
     "metadata": {},
     "output_type": "execute_result"
    }
   ],
   "source": [
    "my_faves = {\n",
    "    \"Song\": \"Nightwave by Wolfclub\",\n",
    "    \"Food\": \"Crispy Tofu\",\n",
    "    \"TV Show\": \"Because This Is My First Life\",\n",
    "    \"Person\": \"Me\"\n",
    "}\n",
    "my_faves"
   ]
  },
  {
   "cell_type": "code",
   "execution_count": 33,
   "metadata": {},
   "outputs": [
    {
     "data": {
      "text/plain": [
       "{'Song': {'Happy': \"When I'm With You by Best Coast\",\n",
       "  'Sad': 'I Need My Girl by The National'},\n",
       " 'Food': 'Crispy Tofu',\n",
       " 'TV Show': 'Because This Is My First Life',\n",
       " 'Person': 'Me'}"
      ]
     },
     "execution_count": 33,
     "metadata": {},
     "output_type": "execute_result"
    }
   ],
   "source": [
    "my_faves[\"Song\"] = {\n",
    "    \"Happy\": \"When I'm With You by Best Coast\",\n",
    "    \"Sad\": \"I Need My Girl by The National\"\n",
    "}\n",
    "my_faves"
   ]
  },
  {
   "cell_type": "markdown",
   "metadata": {},
   "source": [
    "**2. Find out how many keys are in `my_faves`.**"
   ]
  },
  {
   "cell_type": "code",
   "execution_count": 34,
   "metadata": {},
   "outputs": [
    {
     "data": {
      "text/plain": [
       "4"
      ]
     },
     "execution_count": 34,
     "metadata": {},
     "output_type": "execute_result"
    }
   ],
   "source": [
    "len(my_faves)"
   ]
  },
  {
   "cell_type": "markdown",
   "metadata": {},
   "source": [
    "**3. Add an entry to `my_faves` for your favorite movies using the list you made in Exercise 2.3.1.**"
   ]
  },
  {
   "cell_type": "code",
   "execution_count": 36,
   "metadata": {},
   "outputs": [
    {
     "data": {
      "text/plain": [
       "{'Song': {'Happy': \"When I'm With You by Best Coast\",\n",
       "  'Sad': 'I Need My Girl by The National'},\n",
       " 'Food': 'Crispy Tofu',\n",
       " 'TV Show': 'Because This Is My First Life',\n",
       " 'Person': 'Me',\n",
       " 'Movies': ['Speed Racer', 'The Revenant', 'Inception']}"
      ]
     },
     "execution_count": 36,
     "metadata": {},
     "output_type": "execute_result"
    }
   ],
   "source": [
    "my_faves[\"Movies\"] = fave_movies\n",
    "my_faves"
   ]
  },
  {
   "cell_type": "markdown",
   "metadata": {},
   "source": [
    "<a id='sol-2.5'></a>\n",
    "### Exercise 2.5:\n",
    "\n",
    "**1. \"Man, I just want to go home, watch ... , and eat ...\"**"
   ]
  },
  {
   "cell_type": "code",
   "execution_count": 39,
   "metadata": {},
   "outputs": [
    {
     "name": "stdout",
     "output_type": "stream",
     "text": [
      "Man, I just want to go home, watch Because This Is My First Life, and eat Crispy Tofu.\n"
     ]
    }
   ],
   "source": [
    "print(\"Man, I just want to go home, watch {}, and eat {}.\".format(\n",
    "        my_faves[\"TV Show\"], my_faves[\"Food\"]))"
   ]
  },
  {
   "cell_type": "markdown",
   "metadata": {},
   "source": [
    "**2. \"My favorite happy song is ... and my favorite sad song is ...\"**"
   ]
  },
  {
   "cell_type": "code",
   "execution_count": 37,
   "metadata": {},
   "outputs": [
    {
     "name": "stdout",
     "output_type": "stream",
     "text": [
      "My favorite happy song is When I'm With You by Best Coast and my favorite sad song is I Need My Girl by The National.\n"
     ]
    }
   ],
   "source": [
    "print(\"My favorite happy song is {} and my favorite sad song is {}.\".format(\n",
    "        my_faves[\"Song\"][\"Happy\"], my_faves[\"Song\"][\"Sad\"]))"
   ]
  },
  {
   "cell_type": "markdown",
   "metadata": {},
   "source": [
    "## Section 3: For loops, Conditionals"
   ]
  },
  {
   "cell_type": "markdown",
   "metadata": {},
   "source": [
    "<a id='sol-3.1'></a>\n",
    "### Exercise 3.1:\n",
    "\n",
    "**1. Iterate over `best_songs` and use string formatting to output \"The best song by ... is ...\". **"
   ]
  },
  {
   "cell_type": "code",
   "execution_count": 42,
   "metadata": {},
   "outputs": [
    {
     "name": "stdout",
     "output_type": "stream",
     "text": [
      "The best song by Bruno Mars is That's What I Like.\n",
      "The best song by Backstreet Boys is Larger Than Life.\n",
      "The best song by Jay Park is All I Wanna Do.\n",
      "The best song by Nero is Into the Night.\n",
      "The best song by Rihanna is Drunk on Love.\n",
      "The best song by The Weeknd is What You Need.\n"
     ]
    }
   ],
   "source": [
    "best_songs = {\n",
    "    \"Bruno Mars\": \"That's What I Like\",\n",
    "    \"Backstreet Boys\": \"Larger Than Life\",\n",
    "    \"Jay Park\": \"All I Wanna Do\",\n",
    "    \"Nero\": \"Into the Night\",\n",
    "    \"Rihanna\": \"Drunk on Love\",\n",
    "    \"The Weeknd\": \"What You Need\"\n",
    "}\n",
    "\n",
    "\n",
    "for artist in best_songs:\n",
    "    print(\"The best song by {} is {}.\".format(artist, best_songs[artist]))"
   ]
  },
  {
   "cell_type": "markdown",
   "metadata": {},
   "source": [
    "**2. Create an empty list named `triples` by entering `triples = []`.  Iterate over `int_list`, multiply each of the integers by 3, and save them to `triples`.**"
   ]
  },
  {
   "cell_type": "code",
   "execution_count": 53,
   "metadata": {},
   "outputs": [
    {
     "data": {
      "text/plain": [
       "[3, 6, 9, 12, 15, 18, 21, 24, 27, 30]"
      ]
     },
     "execution_count": 53,
     "metadata": {},
     "output_type": "execute_result"
    }
   ],
   "source": [
    "int_list = [1, 2, 3, 4, 5, 6, 7, 8, 9, 10]\n",
    "triples = []\n",
    "for num in int_list:\n",
    "    triples.append(num * 3)\n",
    "triples"
   ]
  },
  {
   "cell_type": "markdown",
   "metadata": {},
   "source": [
    "**3. Iterate over both `int_list` and `triples` and use string formatting to output \"... times 3 is ...\"**"
   ]
  },
  {
   "cell_type": "markdown",
   "metadata": {},
   "source": [
    "Without using `zip`:"
   ]
  },
  {
   "cell_type": "code",
   "execution_count": 44,
   "metadata": {},
   "outputs": [
    {
     "name": "stdout",
     "output_type": "stream",
     "text": [
      "1 times 3 is 3.\n",
      "2 times 3 is 6.\n",
      "3 times 3 is 9.\n",
      "4 times 3 is 12.\n",
      "5 times 3 is 15.\n",
      "6 times 3 is 18.\n",
      "7 times 3 is 21.\n",
      "8 times 3 is 24.\n",
      "9 times 3 is 27.\n",
      "10 times 3 is 30.\n"
     ]
    }
   ],
   "source": [
    "for i in range(len(int_list)):\n",
    "    print(\"{} times 3 is {}.\".format(int_list[i], triples[i]))"
   ]
  },
  {
   "cell_type": "markdown",
   "metadata": {},
   "source": [
    "Using `zip`:"
   ]
  },
  {
   "cell_type": "code",
   "execution_count": 45,
   "metadata": {},
   "outputs": [
    {
     "name": "stdout",
     "output_type": "stream",
     "text": [
      "1 times 3 is 3.\n",
      "2 times 3 is 6.\n",
      "3 times 3 is 9.\n",
      "4 times 3 is 12.\n",
      "5 times 3 is 15.\n",
      "6 times 3 is 18.\n",
      "7 times 3 is 21.\n",
      "8 times 3 is 24.\n",
      "9 times 3 is 27.\n",
      "10 times 3 is 30.\n"
     ]
    }
   ],
   "source": [
    "for pair in zip(int_list, triples):\n",
    "    print(\"{} times 3 is {}.\".format(*pair))"
   ]
  },
  {
   "cell_type": "markdown",
   "metadata": {},
   "source": [
    "**4. Repeat the above by only iterating over `int_list`.**"
   ]
  },
  {
   "cell_type": "code",
   "execution_count": 46,
   "metadata": {},
   "outputs": [
    {
     "name": "stdout",
     "output_type": "stream",
     "text": [
      "1 times 3 is 3.\n",
      "2 times 3 is 6.\n",
      "3 times 3 is 9.\n",
      "4 times 3 is 12.\n",
      "5 times 3 is 15.\n",
      "6 times 3 is 18.\n",
      "7 times 3 is 21.\n",
      "8 times 3 is 24.\n",
      "9 times 3 is 27.\n",
      "10 times 3 is 30.\n"
     ]
    }
   ],
   "source": [
    "for num in int_list:\n",
    "    print(\"{} times 3 is {}.\".format(num, num * 3))"
   ]
  },
  {
   "cell_type": "markdown",
   "metadata": {},
   "source": [
    "<a id='sol-3.2'></a>\n",
    "### Exercise 3.2\n",
    "\n",
    "**1. In Exercise 2.1, we figured out how to tell if a number was odd.  How can we turn this into a boolean expression?**"
   ]
  },
  {
   "cell_type": "code",
   "execution_count": 48,
   "metadata": {},
   "outputs": [
    {
     "data": {
      "text/plain": [
       "False"
      ]
     },
     "execution_count": 48,
     "metadata": {},
     "output_type": "execute_result"
    }
   ],
   "source": [
    "x = 25\n",
    "x % 2 == 0"
   ]
  },
  {
   "cell_type": "markdown",
   "metadata": {},
   "source": [
    "** 2. Iterate over `int_list` using an index-based `for` loop and print out *only* the odd numbers.  Repeat for the even numbers.  Can you do this in one line using slicing?**"
   ]
  },
  {
   "cell_type": "markdown",
   "metadata": {},
   "source": [
    "    Printing the odd numbers:"
   ]
  },
  {
   "cell_type": "code",
   "execution_count": 49,
   "metadata": {},
   "outputs": [
    {
     "name": "stdout",
     "output_type": "stream",
     "text": [
      "1\n",
      "3\n",
      "5\n",
      "7\n",
      "9\n"
     ]
    }
   ],
   "source": [
    "for num in int_list:\n",
    "    if num % 2 != 0:\n",
    "        print(num)"
   ]
  },
  {
   "cell_type": "markdown",
   "metadata": {},
   "source": [
    "    Printing the even numbers:"
   ]
  },
  {
   "cell_type": "code",
   "execution_count": 50,
   "metadata": {},
   "outputs": [
    {
     "name": "stdout",
     "output_type": "stream",
     "text": [
      "2\n",
      "4\n",
      "6\n",
      "8\n",
      "10\n"
     ]
    }
   ],
   "source": [
    "for num in int_list:\n",
    "    if num % 2 == 0:\n",
    "        print(num)"
   ]
  },
  {
   "cell_type": "markdown",
   "metadata": {},
   "source": [
    "Since `int_list` is nicely order, we can get similar results by slicing:"
   ]
  },
  {
   "cell_type": "code",
   "execution_count": 51,
   "metadata": {},
   "outputs": [
    {
     "data": {
      "text/plain": [
       "[1, 3, 5, 7, 9]"
      ]
     },
     "execution_count": 51,
     "metadata": {},
     "output_type": "execute_result"
    }
   ],
   "source": [
    "int_list[::2]"
   ]
  },
  {
   "cell_type": "code",
   "execution_count": 52,
   "metadata": {},
   "outputs": [
    {
     "data": {
      "text/plain": [
       "[2, 4, 6, 8, 10]"
      ]
     },
     "execution_count": 52,
     "metadata": {},
     "output_type": "execute_result"
    }
   ],
   "source": [
    "int_list[1::2]"
   ]
  },
  {
   "cell_type": "markdown",
   "metadata": {},
   "source": [
    "## Section 4: File Input/Output"
   ]
  },
  {
   "cell_type": "markdown",
   "metadata": {},
   "source": [
    "<a id='sol-4.1'></a>\n",
    "### Exercise 4.1"
   ]
  },
  {
   "cell_type": "markdown",
   "metadata": {},
   "source": [
    "<a id='sol-4.2'></a>\n",
    "### Exercise 4.2"
   ]
  },
  {
   "cell_type": "markdown",
   "metadata": {},
   "source": [
    "<a id='sol-4.3'></a>\n",
    "### Exercise 4.3"
   ]
  }
 ],
 "metadata": {
  "kernelspec": {
   "display_name": "Python 3",
   "language": "python",
   "name": "python3"
  },
  "language_info": {
   "codemirror_mode": {
    "name": "ipython",
    "version": 3
   },
   "file_extension": ".py",
   "mimetype": "text/x-python",
   "name": "python",
   "nbconvert_exporter": "python",
   "pygments_lexer": "ipython3",
   "version": "3.6.5"
  }
 },
 "nbformat": 4,
 "nbformat_minor": 2
}
