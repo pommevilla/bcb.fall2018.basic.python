{
 "cells": [
  {
   "cell_type": "markdown",
   "metadata": {},
   "source": [
    "# Introduction to Python\n",
    "\n",
    "\n",
    "## Section 1: Introduction\n",
    "\n",
    "Welcome to the *Basic Python* portion of the Fall 2018 Basic Python Workshops hosted by the [Bioinformatics and Computational Biology Graduate Student Organization (BCBGSO)][bcbgso-stuorg].  This is the first in a three-part workshop series.  You can find the other two parts here:\n",
    "\n",
    "* Intermediate Python\n",
    "* Advanced Python\n",
    "\n",
    "These workshops are intended to give someone with no prior programming knowledge some hands-on problem solving experience.  \n",
    "\n",
    "\n",
    "## Section 1.1: About This Workshop\n",
    "\n",
    "There are 5 parts to this workshop:\n",
    "\n",
    "* [Introduction](basic.python.1.ipynb)\n",
    "* [Python Basics](basic.python.2.ipynb)\n",
    "* [Loops](basic.python.3.ipynb)\n",
    "* [File I/O](basic.python.4.ipynb)\n",
    "* [Next Steps](basic.python.5.ipynb)\n",
    "\n",
    "\n",
    "## Section 1.2: Spyder\n",
    "\n",
    "Open up Anaconda and launch Spyder.  Spyder is an integrated development environment, or IDE.  An IDE is a program with tools to help you with coding.  When you open Spyder, You will see a screen like this:"
   ]
  },
  {
   "cell_type": "markdown",
   "metadata": {},
   "source": [
    "![alt text](images/spyder-console.1.png)"
   ]
  },
  {
   "cell_type": "markdown",
   "metadata": {},
   "source": [
    "The Spyder IDE is broken up into 3 panes:\n",
    "\n",
    "* **Pane 1** is the **editor**.  You can write lines of code in here and run them by clicking the green play button right above the pane.  Alternatively, if you want to only run a few select lines, highlight them and press Control + Enter (on Windows) or Command + Enter (on Mac). The most basic use for the editor is to store lines of code you've written so that you can rerun them whenever you want.  Eventually, we will write programs and modules.\n",
    "* **Pane 2** contains the **variable explorer** and **file explorer**.  The **variable explorer** lets you see the values of variables at a glance.  The **file explorer** is a basic file navigation system.  Click the tabs at the bottom of this pane to switch between the two.\n",
    "* **Pane 3** contains the **iPython console** and the **history log**.  The **iPython console** (referred to as the **console** from here on) is an interactive coding environment that you can run commands in.  The **history log** is a record of the last commands you entered.  Click the tabs at the bottom of this pane to switch between the two.  \n",
    "\n",
    "We will be using all 3 panes pretty extensively.  In the next section, we'll begin messing around with the IDE to make ourselves comfortable.\n",
    "\n",
    "[Next Section: Python Basics](basic.python.2.ipynb)\n",
    "\n"
   ]
  }
 ],
 "metadata": {
  "kernelspec": {
   "display_name": "Python 3",
   "language": "python",
   "name": "python3"
  },
  "language_info": {
   "codemirror_mode": {
    "name": "ipython",
    "version": 3
   },
   "file_extension": ".py",
   "mimetype": "text/x-python",
   "name": "python",
   "nbconvert_exporter": "python",
   "pygments_lexer": "ipython3",
   "version": "3.6.5"
  }
 },
 "nbformat": 4,
 "nbformat_minor": 2
}
